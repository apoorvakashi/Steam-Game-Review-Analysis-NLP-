{
  "nbformat": 4,
  "nbformat_minor": 0,
  "metadata": {
    "colab": {
      "name": "Steam Game Review Analysis Word Embedding in Keras .ipynb",
      "provenance": []
    },
    "kernelspec": {
      "name": "python3",
      "display_name": "Python 3"
    }
  },
  "cells": [
    {
      "cell_type": "markdown",
      "metadata": {
        "id": "ozGQ1Smzpl3X",
        "colab_type": "text"
      },
      "source": [
        "## **Data Pre-processing**\n",
        "\n",
        "---\n",
        "\n",
        "\n",
        "\n",
        "---\n",
        "\n"
      ]
    },
    {
      "cell_type": "markdown",
      "metadata": {
        "id": "C0PRiXdEnrS7",
        "colab_type": "text"
      },
      "source": [
        "**Import Packages**"
      ]
    },
    {
      "cell_type": "code",
      "metadata": {
        "id": "KVOR8ER25Y8k",
        "colab_type": "code",
        "colab": {}
      },
      "source": [
        "import numpy as np\n",
        "import pandas as pd\n",
        "import matplotlib.pyplot as plt\n"
      ],
      "execution_count": 0,
      "outputs": []
    },
    {
      "cell_type": "code",
      "metadata": {
        "id": "ccdvQweF6Imp",
        "colab_type": "code",
        "colab": {}
      },
      "source": [
        "#fetch data\n",
        "\n",
        "df = pd.read_csv(\"/content/drive/My Drive/dataset/steam game/train.csv\")\n"
      ],
      "execution_count": 0,
      "outputs": []
    },
    {
      "cell_type": "code",
      "metadata": {
        "id": "SwDmVFzH6olg",
        "colab_type": "code",
        "colab": {
          "base_uri": "https://localhost:8080/",
          "height": 419
        },
        "outputId": "b9db30d9-2076-47d1-d16d-5db2157294e3"
      },
      "source": [
        "df"
      ],
      "execution_count": 3,
      "outputs": [
        {
          "output_type": "execute_result",
          "data": {
            "text/html": [
              "<div>\n",
              "<style scoped>\n",
              "    .dataframe tbody tr th:only-of-type {\n",
              "        vertical-align: middle;\n",
              "    }\n",
              "\n",
              "    .dataframe tbody tr th {\n",
              "        vertical-align: top;\n",
              "    }\n",
              "\n",
              "    .dataframe thead th {\n",
              "        text-align: right;\n",
              "    }\n",
              "</style>\n",
              "<table border=\"1\" class=\"dataframe\">\n",
              "  <thead>\n",
              "    <tr style=\"text-align: right;\">\n",
              "      <th></th>\n",
              "      <th>review_id</th>\n",
              "      <th>title</th>\n",
              "      <th>year</th>\n",
              "      <th>user_review</th>\n",
              "      <th>user_suggestion</th>\n",
              "    </tr>\n",
              "  </thead>\n",
              "  <tbody>\n",
              "    <tr>\n",
              "      <th>0</th>\n",
              "      <td>1</td>\n",
              "      <td>Spooky's Jump Scare Mansion</td>\n",
              "      <td>2016.0</td>\n",
              "      <td>I'm scared and hearing creepy voices.  So I'll...</td>\n",
              "      <td>1</td>\n",
              "    </tr>\n",
              "    <tr>\n",
              "      <th>1</th>\n",
              "      <td>2</td>\n",
              "      <td>Spooky's Jump Scare Mansion</td>\n",
              "      <td>2016.0</td>\n",
              "      <td>Best game, more better than Sam Pepper's YouTu...</td>\n",
              "      <td>1</td>\n",
              "    </tr>\n",
              "    <tr>\n",
              "      <th>2</th>\n",
              "      <td>3</td>\n",
              "      <td>Spooky's Jump Scare Mansion</td>\n",
              "      <td>2016.0</td>\n",
              "      <td>A littly iffy on the controls, but once you kn...</td>\n",
              "      <td>1</td>\n",
              "    </tr>\n",
              "    <tr>\n",
              "      <th>3</th>\n",
              "      <td>4</td>\n",
              "      <td>Spooky's Jump Scare Mansion</td>\n",
              "      <td>2015.0</td>\n",
              "      <td>Great game, fun and colorful and all that.A si...</td>\n",
              "      <td>1</td>\n",
              "    </tr>\n",
              "    <tr>\n",
              "      <th>4</th>\n",
              "      <td>5</td>\n",
              "      <td>Spooky's Jump Scare Mansion</td>\n",
              "      <td>2015.0</td>\n",
              "      <td>Not many games have the cute tag right next to...</td>\n",
              "      <td>1</td>\n",
              "    </tr>\n",
              "    <tr>\n",
              "      <th>...</th>\n",
              "      <td>...</td>\n",
              "      <td>...</td>\n",
              "      <td>...</td>\n",
              "      <td>...</td>\n",
              "      <td>...</td>\n",
              "    </tr>\n",
              "    <tr>\n",
              "      <th>17489</th>\n",
              "      <td>25535</td>\n",
              "      <td>EverQuest II</td>\n",
              "      <td>2012.0</td>\n",
              "      <td>Arguably the single greatest mmorp that exists...</td>\n",
              "      <td>1</td>\n",
              "    </tr>\n",
              "    <tr>\n",
              "      <th>17490</th>\n",
              "      <td>25536</td>\n",
              "      <td>EverQuest II</td>\n",
              "      <td>2017.0</td>\n",
              "      <td>An older game, to be sure, but has its own cha...</td>\n",
              "      <td>1</td>\n",
              "    </tr>\n",
              "    <tr>\n",
              "      <th>17491</th>\n",
              "      <td>25537</td>\n",
              "      <td>EverQuest II</td>\n",
              "      <td>2011.0</td>\n",
              "      <td>When I frist started playing Everquest 2 it wa...</td>\n",
              "      <td>1</td>\n",
              "    </tr>\n",
              "    <tr>\n",
              "      <th>17492</th>\n",
              "      <td>25538</td>\n",
              "      <td>EverQuest II</td>\n",
              "      <td>NaN</td>\n",
              "      <td>cool game. THe only thing that REALLY PISSES M...</td>\n",
              "      <td>1</td>\n",
              "    </tr>\n",
              "    <tr>\n",
              "      <th>17493</th>\n",
              "      <td>25539</td>\n",
              "      <td>EverQuest II</td>\n",
              "      <td>NaN</td>\n",
              "      <td>this game since I was a little kid, always hav...</td>\n",
              "      <td>1</td>\n",
              "    </tr>\n",
              "  </tbody>\n",
              "</table>\n",
              "<p>17494 rows × 5 columns</p>\n",
              "</div>"
            ],
            "text/plain": [
              "       review_id  ... user_suggestion\n",
              "0              1  ...               1\n",
              "1              2  ...               1\n",
              "2              3  ...               1\n",
              "3              4  ...               1\n",
              "4              5  ...               1\n",
              "...          ...  ...             ...\n",
              "17489      25535  ...               1\n",
              "17490      25536  ...               1\n",
              "17491      25537  ...               1\n",
              "17492      25538  ...               1\n",
              "17493      25539  ...               1\n",
              "\n",
              "[17494 rows x 5 columns]"
            ]
          },
          "metadata": {
            "tags": []
          },
          "execution_count": 3
        }
      ]
    },
    {
      "cell_type": "markdown",
      "metadata": {
        "id": "BkMuZI3MzNTS",
        "colab_type": "text"
      },
      "source": [
        "There is very less correlation between year and user_suggestion. Thinking, If a game is great/trash it doesn't depend on the year. Review id of a user also doesn't affect the suggestion.Let's drop the unwanted columns from the dataset.\n",
        "\n",
        "---\n",
        "\n"
      ]
    },
    {
      "cell_type": "code",
      "metadata": {
        "id": "GUhXXmGJ7KrC",
        "colab_type": "code",
        "colab": {}
      },
      "source": [
        "df.drop(['review_id'], axis=1, inplace=True)"
      ],
      "execution_count": 0,
      "outputs": []
    },
    {
      "cell_type": "code",
      "metadata": {
        "id": "meIGNJ_i8B7F",
        "colab_type": "code",
        "colab": {
          "base_uri": "https://localhost:8080/",
          "height": 34
        },
        "outputId": "b5616be1-4e04-44bb-8f86-c96da27ed71b"
      },
      "source": [
        "df['year'].corr(df['user_suggestion'])"
      ],
      "execution_count": 5,
      "outputs": [
        {
          "output_type": "execute_result",
          "data": {
            "text/plain": [
              "-0.12004374888886256"
            ]
          },
          "metadata": {
            "tags": []
          },
          "execution_count": 5
        }
      ]
    },
    {
      "cell_type": "code",
      "metadata": {
        "id": "kqKvvwZS7egH",
        "colab_type": "code",
        "colab": {}
      },
      "source": [
        "df.drop(['year'], axis=1, inplace=True)"
      ],
      "execution_count": 0,
      "outputs": []
    },
    {
      "cell_type": "markdown",
      "metadata": {
        "id": "XZsZlDiLz6ES",
        "colab_type": "text"
      },
      "source": [
        "User suggestions"
      ]
    },
    {
      "cell_type": "code",
      "metadata": {
        "id": "YsK7xmHp9gj2",
        "colab_type": "code",
        "colab": {
          "base_uri": "https://localhost:8080/",
          "height": 68
        },
        "outputId": "341c9116-9908-41b3-81da-5b24f3860e8f"
      },
      "source": [
        "df['user_suggestion'].value_counts()"
      ],
      "execution_count": 7,
      "outputs": [
        {
          "output_type": "execute_result",
          "data": {
            "text/plain": [
              "1    9968\n",
              "0    7526\n",
              "Name: user_suggestion, dtype: int64"
            ]
          },
          "metadata": {
            "tags": []
          },
          "execution_count": 7
        }
      ]
    },
    {
      "cell_type": "markdown",
      "metadata": {
        "id": "5XlOWpm2zu7Q",
        "colab_type": "text"
      },
      "source": [
        "This looks almost like a balanced dataset."
      ]
    },
    {
      "cell_type": "markdown",
      "metadata": {
        "id": "22hbcNDP0AnK",
        "colab_type": "text"
      },
      "source": [
        "**Sample reviews**\n",
        "\n",
        "---\n",
        "\n"
      ]
    },
    {
      "cell_type": "markdown",
      "metadata": {
        "id": "zt-HHw-a0REv",
        "colab_type": "text"
      },
      "source": [
        "How does **user_suggestion == 0** look?\n",
        "\n",
        "That is how does a **negative user_review** look like?"
      ]
    },
    {
      "cell_type": "code",
      "metadata": {
        "id": "AL2xwNjj9nBj",
        "colab_type": "code",
        "colab": {
          "base_uri": "https://localhost:8080/",
          "height": 54
        },
        "outputId": "1af88ea0-0b1c-44ac-843b-0f8176add474"
      },
      "source": [
        "df[df['user_suggestion'] == 0]['user_review'].iloc[1]"
      ],
      "execution_count": 8,
      "outputs": [
        {
          "output_type": "execute_result",
          "data": {
            "text/plain": [
              "'Has a few nice elements but overall quite boring and repetitive.+++ music and sounds++ free+ things popping up at the start, then I just got used to it+ some visuals+ humor--- repetitive-- going through 60+ boring rooms and then getting killed out of nowhere... waste of time- story- movement, can\\'t \"slide\" on edges, blocks your movement- monsters jumping out of nowhere and killing youOverall 5/10.'"
            ]
          },
          "metadata": {
            "tags": []
          },
          "execution_count": 8
        }
      ]
    },
    {
      "cell_type": "markdown",
      "metadata": {
        "id": "L70LPDZl0eEH",
        "colab_type": "text"
      },
      "source": [
        "We can see that some seperate words are appended as one :\n",
        "\n",
        "Example : youOverall --> \"you Overall\"\n",
        "\n",
        "---\n",
        "Next,\n",
        "How does **user_suggestion == 1** look?\n",
        "\n",
        "That is how does a **positive user_review** look like?\n",
        "\n",
        "---\n",
        "\n"
      ]
    },
    {
      "cell_type": "code",
      "metadata": {
        "id": "Tj5QHb4g95lm",
        "colab_type": "code",
        "colab": {
          "base_uri": "https://localhost:8080/",
          "height": 54
        },
        "outputId": "9f85e2eb-ce31-478d-a841-404abe394287"
      },
      "source": [
        "df[df['user_suggestion'] == 1]['user_review'].iloc[1]"
      ],
      "execution_count": 9,
      "outputs": [
        {
          "output_type": "execute_result",
          "data": {
            "text/plain": [
              "\"Best game, more better than Sam Pepper's YouTube account. 10/10What you'll need to play:A computerSome extra pants.Pros:Scary as hell.Fun.Adventure.Spooky.Did I forgot to mention that its scary as hell?You'll get more pants/briefs in your wardrobe.Time consuming if you're bored.Cons:Buying pants/briefs. You haven't downloaded it yet.\""
            ]
          },
          "metadata": {
            "tags": []
          },
          "execution_count": 9
        }
      ]
    },
    {
      "cell_type": "markdown",
      "metadata": {
        "id": "snSDIRaU0ww_",
        "colab_type": "text"
      },
      "source": [
        "**Non-English Reviews?**\n",
        "\n",
        "Are there any reviews which are not in english. Let's see a sample non-english review.\n",
        "\n",
        "---\n",
        "\n"
      ]
    },
    {
      "cell_type": "code",
      "metadata": {
        "id": "-qZDsREa-MBD",
        "colab_type": "code",
        "colab": {
          "base_uri": "https://localhost:8080/",
          "height": 54
        },
        "outputId": "44b671fe-659d-448d-cbc5-8c3f25581187"
      },
      "source": [
        "df['user_review'].iloc[331]"
      ],
      "execution_count": 10,
      "outputs": [
        {
          "output_type": "execute_result",
          "data": {
            "text/plain": [
              "'ROOM 1 : AHHHH WHAT A CUTE GAME ROOM 60 : Exorcizamus te, omnis immundus spiritus, omnis satanica potestas, omnis incursio infernalis adversarii, omnis legio, omnis congregatio et secta diabolica. Ergo, omnis legio diabolica, adiuramus te...cessa decipere humanas creaturas, eisque æternæ perditionìs venenum propinare...Vade, satana, inventor et magister omnis fallaciæ, hostis humanæ salutis...Humiliare sub potenti manu Dei; contremisce et effuge, invocato a nobis sancto et terribili nomine...quem inferi tremunt...Ab insidiis diaboli, libera nos, Domine. Ut Ecclesiam tuam secura tibi facias libertate servire, te rogamus, audi nos.'"
            ]
          },
          "metadata": {
            "tags": []
          },
          "execution_count": 10
        }
      ]
    },
    {
      "cell_type": "markdown",
      "metadata": {
        "id": "maihtwtR1B50",
        "colab_type": "text"
      },
      "source": [
        "Let's get all the reviews list which are not english and remove them."
      ]
    },
    {
      "cell_type": "code",
      "metadata": {
        "id": "nx3YIUIK-gXk",
        "colab_type": "code",
        "colab": {
          "base_uri": "https://localhost:8080/",
          "height": 204
        },
        "outputId": "319e995c-1d23-44ce-da88-b2c2e4035639"
      },
      "source": [
        "!pip install langdetect\n",
        "from langdetect import detect\n",
        "from tqdm import tqdm_notebook"
      ],
      "execution_count": 11,
      "outputs": [
        {
          "output_type": "stream",
          "text": [
            "Collecting langdetect\n",
            "\u001b[?25l  Downloading https://files.pythonhosted.org/packages/56/a3/8407c1e62d5980188b4acc45ef3d94b933d14a2ebc9ef3505f22cf772570/langdetect-1.0.8.tar.gz (981kB)\n",
            "\u001b[K     |████████████████████████████████| 983kB 2.7MB/s \n",
            "\u001b[?25hRequirement already satisfied: six in /usr/local/lib/python3.6/dist-packages (from langdetect) (1.12.0)\n",
            "Building wheels for collected packages: langdetect\n",
            "  Building wheel for langdetect (setup.py) ... \u001b[?25l\u001b[?25hdone\n",
            "  Created wheel for langdetect: filename=langdetect-1.0.8-cp36-none-any.whl size=993193 sha256=15fd61f42bde33bf0bb23166f9a3fdc5ea38b9e43c2a449bb9fffe6e754aaf1f\n",
            "  Stored in directory: /root/.cache/pip/wheels/8d/b3/aa/6d99de9f3841d7d3d40a60ea06e6d669e8e5012e6c8b947a57\n",
            "Successfully built langdetect\n",
            "Installing collected packages: langdetect\n",
            "Successfully installed langdetect-1.0.8\n"
          ],
          "name": "stdout"
        }
      ]
    },
    {
      "cell_type": "code",
      "metadata": {
        "id": "lwz2jPNU1U22",
        "colab_type": "code",
        "colab": {
          "base_uri": "https://localhost:8080/",
          "height": 34
        },
        "outputId": "07860121-ed13-4eaa-823f-3697663a5466"
      },
      "source": [
        "# Sample usage : \n",
        "df['user_review'].iloc[1][: 20], detect(df['user_review'].iloc[1])"
      ],
      "execution_count": 14,
      "outputs": [
        {
          "output_type": "execute_result",
          "data": {
            "text/plain": [
              "('Best game, more bett', 'en')"
            ]
          },
          "metadata": {
            "tags": []
          },
          "execution_count": 14
        }
      ]
    },
    {
      "cell_type": "markdown",
      "metadata": {
        "id": "FPgqhfnu1a0_",
        "colab_type": "text"
      },
      "source": [
        "**'en'** is the language code for english. Any language codes different than 'en' would represent that is non-english."
      ]
    },
    {
      "cell_type": "code",
      "metadata": {
        "id": "Brj6Szjw-lZc",
        "colab_type": "code",
        "colab": {}
      },
      "source": [
        "def get_language(X):\n",
        "    try:\n",
        "        return detect(X)\n",
        "    except:\n",
        "        return \"Error\""
      ],
      "execution_count": 0,
      "outputs": []
    },
    {
      "cell_type": "code",
      "metadata": {
        "id": "BBYOQOSH-4RL",
        "colab_type": "code",
        "colab": {}
      },
      "source": [
        "df['user_review_language'] = df['user_review'].apply(lambda x: get_language(x))"
      ],
      "execution_count": 0,
      "outputs": []
    },
    {
      "cell_type": "code",
      "metadata": {
        "id": "6ryKteJv-7Gs",
        "colab_type": "code",
        "colab": {
          "base_uri": "https://localhost:8080/",
          "height": 51
        },
        "outputId": "3d14e0f6-b890-4b7c-af10-693abb405093"
      },
      "source": [
        "print(\"Original Shape : {}\".format(df.shape))\n",
        "\n",
        "new_lang_df = df[df['user_review_language'] != 'en'].copy()\n",
        "df = df[df['user_review_language'] == 'en'].copy()\n",
        "\n",
        "print(\"New Shape : {}\".format(df.shape))"
      ],
      "execution_count": 17,
      "outputs": [
        {
          "output_type": "stream",
          "text": [
            "Original Shape : (17494, 4)\n",
            "New Shape : (17277, 4)\n"
          ],
          "name": "stdout"
        }
      ]
    },
    {
      "cell_type": "markdown",
      "metadata": {
        "id": "Vx3jw1451ppr",
        "colab_type": "text"
      },
      "source": [
        "Almost removed 214 records."
      ]
    },
    {
      "cell_type": "markdown",
      "metadata": {
        "id": "rS2WYGVf1ufn",
        "colab_type": "text"
      },
      "source": [
        "**Cleaning Text**\n",
        "\n",
        "---\n",
        "\n",
        "\n",
        "\n",
        "\n",
        "1. Removing \"Early Access Review\" : This phrase is added in the starting for reviews which are given by the users who get an early access pass.\n",
        "2. Splitting combined numbers and text : \"12AB\" --> \"12 AB\"\n",
        "3. Handling CamelCase : \"youOn\" --> \"you On\"\n",
        "4. Removing extra whitespaces in between words, sentences, left & right trailing.\n",
        "5. Removing waste symbols.\n",
        "6. Removing stop words(Certain words are used to formulate sentences but do not add any semantic meaning to the text.These are known as stop-words in NLP.)\n",
        "\n",
        "\n",
        "\n",
        "Import necessary libraries and define functions to perform these operations."
      ]
    },
    {
      "cell_type": "code",
      "metadata": {
        "id": "-mHI8Ir5_TSd",
        "colab_type": "code",
        "colab": {
          "base_uri": "https://localhost:8080/",
          "height": 51
        },
        "outputId": "2c600ed6-0c39-4dc7-a681-c9d8c0b6d5a5"
      },
      "source": [
        "import re\n",
        "from re import finditer\n",
        "import nltk\n",
        "from nltk.corpus import stopwords\n",
        "nltk.download('stopwords')\n",
        "\n",
        "def remove_EAR(X):\n",
        "    \"\"\"\n",
        "    Removing 'Early Access Review'\n",
        "    \"\"\"\n",
        "    X = X.replace(\"Early Access Review\", \"\")\n",
        "    \n",
        "    return X\n",
        "\n",
        "def split_number_and_text(X):\n",
        "    x = re.split('(\\d+)', X)\n",
        "    x = \" \".join(x)\n",
        "    x = x.strip()\n",
        "    \n",
        "    return x\n",
        "\n",
        "\n",
        "def handle_camelcase(X):\n",
        "    matches = finditer('.+?(?:(?<=[a-z])(?=[A-Z])|(?<=[A-Z])(?=[A-Z][a-z])|$)', X)\n",
        "    return \" \".join([m.group(0) for m in matches])\n",
        "\n",
        "def handling_whitespaces(X):\n",
        "    X = \" \".join(X.split())\n",
        "    X = X.strip()\n",
        "    \n",
        "    return X\n",
        "\n",
        "waste_symbols = \"人̳⣟⣦̪⠓▒͎¸⠟⣅>⡾ ⠻⣀⣛„ͭ⣮⡻⠦⡀͐‘̨⣆̤⣿<／丶⣞͇⣵͞⠹ͩ⢒̯⢸⣤̗̫ͯ͆̔͠⠛⢻⠏-́☐̺͛̋⠸⣥⠄̷＼͟·⌒͗⠁́｀⢹\\\\⢄͈̌ͨ⢤彡~¯/⠶⠲ˆ⡥̮̻͔☉⣻̣ゝ⡞̧͙̿̒̊̑ノ⠭ͤ_⠐⣇҉̚–⡄´̓█▄☑⣧̴͖̍｜⣷̭͘͝｡⠴̜̄ʖ¨̵̏͢⢂͋;͒:⢉つ̾＿̈⣴⣌ͫ⢛⡹⣈へ⢯,̅⣭̩̬̕⡈ム͡⣼ͦ)̛͜ヽ̝̥⣠⢟̶⠤̡͉⠘̹̈́⡴̠⢀）⠇⣾͊⢰̞ͮ̇`⠑⡿\\u3000⠃⣸⠾͍̆ͅ￣⢚̓⠂⡵─⢬ー⠿(⠆⠉̦*͕ﾉ⣹⡟⣬⠙▓⡐7͏̟̲⢿⢦（̰♥̸̢⣙͓̂▀くﾌ⠀.⠰⡒°̖̎､⣒⣰̼⢅⣁⠒͑⢾⡂͌̀ͧ…̃▐ﾚ、丿⢌|̱⢴⡠⣩▌⣉͚ͪ'⢆⢠⡇⡛⣏⡶⣜⣄⡸⠈̘ͣ⣽̉̽̐ͥ⡏ͬ⣗⣶░⠋⠔̙͂^\"\n",
        "\n",
        "def remove_waste_symbols(X):\n",
        "    for item in waste_symbols:\n",
        "        X = X.replace(item, \" \")\n",
        "        \n",
        "    return X\n",
        "\n",
        "stops = list(set(stopwords.words(\"english\")))\n",
        "def text_to_words(X):\n",
        "  letters = re.sub(\"[^a-zA-Z]\",\" \",X)\n",
        "  word = letters.lower().split()\n",
        "  meaningful_words = [w for w in word if w not in stops]\n",
        "  return \" \".join(meaningful_words)"
      ],
      "execution_count": 21,
      "outputs": [
        {
          "output_type": "stream",
          "text": [
            "[nltk_data] Downloading package stopwords to /root/nltk_data...\n",
            "[nltk_data]   Package stopwords is already up-to-date!\n"
          ],
          "name": "stdout"
        }
      ]
    },
    {
      "cell_type": "code",
      "metadata": {
        "id": "1xjA-_rTWMSf",
        "colab_type": "code",
        "colab": {}
      },
      "source": [
        "def clean_review(X):\n",
        "    X = remove_EAR(X)\n",
        "    X = remove_waste_symbols(X)\n",
        "    X = handle_camelcase(X)\n",
        "    X = split_number_and_text(X)\n",
        "    X = handling_whitespaces(X)\n",
        "    X = text_to_words(X)\n",
        "    return X"
      ],
      "execution_count": 0,
      "outputs": []
    },
    {
      "cell_type": "code",
      "metadata": {
        "id": "oPy33TLrWPih",
        "colab_type": "code",
        "colab": {}
      },
      "source": [
        "# clean the data by calling the clean_review function\n",
        "# store the cleaned data in a new column \n",
        "\n",
        "df['user_review_clean'] = df['user_review'].apply(lambda x: clean_review(x))"
      ],
      "execution_count": 0,
      "outputs": []
    },
    {
      "cell_type": "code",
      "metadata": {
        "id": "gqoxypo8XL1a",
        "colab_type": "code",
        "colab": {}
      },
      "source": [
        "#reset the index\n",
        "\n",
        "df.reset_index(drop=True, inplace=True)"
      ],
      "execution_count": 0,
      "outputs": []
    },
    {
      "cell_type": "markdown",
      "metadata": {
        "id": "vnjEwiL33lGA",
        "colab_type": "text"
      },
      "source": [
        "The new Dataframe looks like this after cleaning:-"
      ]
    },
    {
      "cell_type": "code",
      "metadata": {
        "id": "jEBLq8oo2UkH",
        "colab_type": "code",
        "colab": {
          "base_uri": "https://localhost:8080/",
          "height": 419
        },
        "outputId": "c5510270-5557-48fa-d290-fe1a5bfce6fa"
      },
      "source": [
        "df"
      ],
      "execution_count": 25,
      "outputs": [
        {
          "output_type": "execute_result",
          "data": {
            "text/html": [
              "<div>\n",
              "<style scoped>\n",
              "    .dataframe tbody tr th:only-of-type {\n",
              "        vertical-align: middle;\n",
              "    }\n",
              "\n",
              "    .dataframe tbody tr th {\n",
              "        vertical-align: top;\n",
              "    }\n",
              "\n",
              "    .dataframe thead th {\n",
              "        text-align: right;\n",
              "    }\n",
              "</style>\n",
              "<table border=\"1\" class=\"dataframe\">\n",
              "  <thead>\n",
              "    <tr style=\"text-align: right;\">\n",
              "      <th></th>\n",
              "      <th>title</th>\n",
              "      <th>user_review</th>\n",
              "      <th>user_suggestion</th>\n",
              "      <th>user_review_language</th>\n",
              "      <th>user_review_clean</th>\n",
              "    </tr>\n",
              "  </thead>\n",
              "  <tbody>\n",
              "    <tr>\n",
              "      <th>0</th>\n",
              "      <td>Spooky's Jump Scare Mansion</td>\n",
              "      <td>I'm scared and hearing creepy voices.  So I'll...</td>\n",
              "      <td>1</td>\n",
              "      <td>en</td>\n",
              "      <td>scared hearing creepy voices pause moment writ...</td>\n",
              "    </tr>\n",
              "    <tr>\n",
              "      <th>1</th>\n",
              "      <td>Spooky's Jump Scare Mansion</td>\n",
              "      <td>Best game, more better than Sam Pepper's YouTu...</td>\n",
              "      <td>1</td>\n",
              "      <td>en</td>\n",
              "      <td>best game better sam pepper tube account need ...</td>\n",
              "    </tr>\n",
              "    <tr>\n",
              "      <th>2</th>\n",
              "      <td>Spooky's Jump Scare Mansion</td>\n",
              "      <td>A littly iffy on the controls, but once you kn...</td>\n",
              "      <td>1</td>\n",
              "      <td>en</td>\n",
              "      <td>littly iffy controls know play easy master mad...</td>\n",
              "    </tr>\n",
              "    <tr>\n",
              "      <th>3</th>\n",
              "      <td>Spooky's Jump Scare Mansion</td>\n",
              "      <td>Great game, fun and colorful and all that.A si...</td>\n",
              "      <td>1</td>\n",
              "      <td>en</td>\n",
              "      <td>great game fun colorful side note though getti...</td>\n",
              "    </tr>\n",
              "    <tr>\n",
              "      <th>4</th>\n",
              "      <td>Spooky's Jump Scare Mansion</td>\n",
              "      <td>Not many games have the cute tag right next to...</td>\n",
              "      <td>1</td>\n",
              "      <td>en</td>\n",
              "      <td>many games cute tag right next horror tag stea...</td>\n",
              "    </tr>\n",
              "    <tr>\n",
              "      <th>...</th>\n",
              "      <td>...</td>\n",
              "      <td>...</td>\n",
              "      <td>...</td>\n",
              "      <td>...</td>\n",
              "      <td>...</td>\n",
              "    </tr>\n",
              "    <tr>\n",
              "      <th>17272</th>\n",
              "      <td>EverQuest II</td>\n",
              "      <td>Arguably the single greatest mmorp that exists...</td>\n",
              "      <td>1</td>\n",
              "      <td>en</td>\n",
              "      <td>arguably single greatest mmorp exists today fr...</td>\n",
              "    </tr>\n",
              "    <tr>\n",
              "      <th>17273</th>\n",
              "      <td>EverQuest II</td>\n",
              "      <td>An older game, to be sure, but has its own cha...</td>\n",
              "      <td>1</td>\n",
              "      <td>en</td>\n",
              "      <td>older game sure charm holds special place hear...</td>\n",
              "    </tr>\n",
              "    <tr>\n",
              "      <th>17274</th>\n",
              "      <td>EverQuest II</td>\n",
              "      <td>When I frist started playing Everquest 2 it wa...</td>\n",
              "      <td>1</td>\n",
              "      <td>en</td>\n",
              "      <td>frist started playing everquest amazing still ...</td>\n",
              "    </tr>\n",
              "    <tr>\n",
              "      <th>17275</th>\n",
              "      <td>EverQuest II</td>\n",
              "      <td>cool game. THe only thing that REALLY PISSES M...</td>\n",
              "      <td>1</td>\n",
              "      <td>en</td>\n",
              "      <td>cool game thing really pisses ridable transpor...</td>\n",
              "    </tr>\n",
              "    <tr>\n",
              "      <th>17276</th>\n",
              "      <td>EverQuest II</td>\n",
              "      <td>this game since I was a little kid, always hav...</td>\n",
              "      <td>1</td>\n",
              "      <td>en</td>\n",
              "      <td>game since little kid always since still remem...</td>\n",
              "    </tr>\n",
              "  </tbody>\n",
              "</table>\n",
              "<p>17277 rows × 5 columns</p>\n",
              "</div>"
            ],
            "text/plain": [
              "                             title  ...                                  user_review_clean\n",
              "0      Spooky's Jump Scare Mansion  ...  scared hearing creepy voices pause moment writ...\n",
              "1      Spooky's Jump Scare Mansion  ...  best game better sam pepper tube account need ...\n",
              "2      Spooky's Jump Scare Mansion  ...  littly iffy controls know play easy master mad...\n",
              "3      Spooky's Jump Scare Mansion  ...  great game fun colorful side note though getti...\n",
              "4      Spooky's Jump Scare Mansion  ...  many games cute tag right next horror tag stea...\n",
              "...                            ...  ...                                                ...\n",
              "17272                 EverQuest II  ...  arguably single greatest mmorp exists today fr...\n",
              "17273                 EverQuest II  ...  older game sure charm holds special place hear...\n",
              "17274                 EverQuest II  ...  frist started playing everquest amazing still ...\n",
              "17275                 EverQuest II  ...  cool game thing really pisses ridable transpor...\n",
              "17276                 EverQuest II  ...  game since little kid always since still remem...\n",
              "\n",
              "[17277 rows x 5 columns]"
            ]
          },
          "metadata": {
            "tags": []
          },
          "execution_count": 25
        }
      ]
    },
    {
      "cell_type": "code",
      "metadata": {
        "id": "rsvdd_pWB4j-",
        "colab_type": "code",
        "colab": {}
      },
      "source": [
        "# upload the cleaned dataset to drive so that it doesn't have to be cleaned again\n",
        "\n",
        "df.to_csv('SteamGamesClean.csv')\n",
        "!cp SteamGamesClean.csv \"/content/drive/My Drive/dataset\""
      ],
      "execution_count": 0,
      "outputs": []
    },
    {
      "cell_type": "markdown",
      "metadata": {
        "id": "ngBj6_Yq3tzl",
        "colab_type": "text"
      },
      "source": [
        "# **Word Embeddings**\n",
        "\n",
        "---\n",
        "\n",
        "\n",
        "\n",
        "---\n",
        "\n",
        "\n",
        "\n",
        "Word embedding is one of the most popular representation of document vocabulary.They are a type of word representation that allows words with similar meaning to have a similar representation.\n",
        "\n",
        "Neural Networks are designed to learn from numerical data.\n",
        "\n",
        "Word Embedding is really all about improving the ability of networks to learn from text data. By representing that data as lower dimensional vectors. These vectors are called Embedding.\n",
        "\n",
        "Click on link to read more about WordEmbedding\n",
        "\n",
        "[What the heck is Word Embedding?](https://towardsdatascience.com/what-the-heck-is-word-embedding-b30f67f01c81)\n",
        "\n",
        "**Embedding Layer**\n",
        "\n",
        "An embedding layer, for lack of a better name, is a word embedding technique that is learned jointly with a neural network model on a specific natural language processing task, such as language modeling or document classification.\n"
      ]
    },
    {
      "cell_type": "code",
      "metadata": {
        "id": "MkMtS2rxolBf",
        "colab_type": "code",
        "colab": {}
      },
      "source": [
        "# import the necessary libraries to perform vectorization and create the model\n",
        "\n",
        "from sklearn.preprocessing import LabelEncoder\n",
        "import tensorflow as tf\n",
        "from tensorflow import keras  \n",
        "from sklearn.model_selection import train_test_split"
      ],
      "execution_count": 0,
      "outputs": []
    },
    {
      "cell_type": "code",
      "metadata": {
        "id": "J6FPzhxUtU4S",
        "colab_type": "code",
        "colab": {}
      },
      "source": [
        "#check target\n",
        "\n",
        "target = df['user_suggestion'].values"
      ],
      "execution_count": 0,
      "outputs": []
    },
    {
      "cell_type": "code",
      "metadata": {
        "id": "WpE7jhwPB0RZ",
        "colab_type": "code",
        "colab": {
          "base_uri": "https://localhost:8080/",
          "height": 221
        },
        "outputId": "056be05e-1946-4a95-bb10-79489adc089a"
      },
      "source": [
        "# check cleaned user reviews\n",
        "\n",
        "df['user_review_clean']"
      ],
      "execution_count": 29,
      "outputs": [
        {
          "output_type": "execute_result",
          "data": {
            "text/plain": [
              "0        scared hearing creepy voices pause moment writ...\n",
              "1        best game better sam pepper tube account need ...\n",
              "2        littly iffy controls know play easy master mad...\n",
              "3        great game fun colorful side note though getti...\n",
              "4        many games cute tag right next horror tag stea...\n",
              "                               ...                        \n",
              "17272    arguably single greatest mmorp exists today fr...\n",
              "17273    older game sure charm holds special place hear...\n",
              "17274    frist started playing everquest amazing still ...\n",
              "17275    cool game thing really pisses ridable transpor...\n",
              "17276    game since little kid always since still remem...\n",
              "Name: user_review_clean, Length: 17277, dtype: object"
            ]
          },
          "metadata": {
            "tags": []
          },
          "execution_count": 29
        }
      ]
    },
    {
      "cell_type": "code",
      "metadata": {
        "id": "MS5kCCWkB1ya",
        "colab_type": "code",
        "colab": {}
      },
      "source": [
        "# Tokenize each sentence \n",
        "\n",
        "review_tokens = [row.split() for row in df['user_review_clean']]"
      ],
      "execution_count": 0,
      "outputs": []
    },
    {
      "cell_type": "code",
      "metadata": {
        "id": "7wyeqakVEX0f",
        "colab_type": "code",
        "colab": {}
      },
      "source": [
        "# create vocabulary out of all the token words\n",
        "\n",
        "vocab = []\n",
        "for token in review_tokens:\n",
        "  vocab.extend(token)"
      ],
      "execution_count": 0,
      "outputs": []
    },
    {
      "cell_type": "code",
      "metadata": {
        "id": "IwTIDxQJEkHK",
        "colab_type": "code",
        "colab": {
          "base_uri": "https://localhost:8080/",
          "height": 34
        },
        "outputId": "b941a08b-0029-47ab-e788-89d551a37948"
      },
      "source": [
        "# create a vocabulary - making sure each word appears only once\n",
        "\n",
        "vocabulary = list(set(vocab))\n",
        "\n",
        "# get the count of unique words in our vocabulary\n",
        "\n",
        "len(vocabulary)"
      ],
      "execution_count": 32,
      "outputs": [
        {
          "output_type": "execute_result",
          "data": {
            "text/plain": [
              "41801"
            ]
          },
          "metadata": {
            "tags": []
          },
          "execution_count": 32
        }
      ]
    },
    {
      "cell_type": "code",
      "metadata": {
        "id": "Izt_tpXQyTJc",
        "colab_type": "code",
        "colab": {
          "base_uri": "https://localhost:8080/",
          "height": 1000
        },
        "outputId": "5ee8f15a-d9c1-42e0-cd91-f4d160e31a3e"
      },
      "source": [
        "# check vocabulary\n",
        "\n",
        "vocabulary"
      ],
      "execution_count": 33,
      "outputs": [
        {
          "output_type": "execute_result",
          "data": {
            "text/plain": [
              "['expertly',\n",
              " 'cabin',\n",
              " 'maters',\n",
              " 'pigsy',\n",
              " 'spawncampeed',\n",
              " 'torelable',\n",
              " 'birth',\n",
              " 'happy',\n",
              " 'afc',\n",
              " 'peacefully',\n",
              " 'missunderstand',\n",
              " 'enver',\n",
              " 'deviously',\n",
              " 'prototypes',\n",
              " 'swears',\n",
              " 'neede',\n",
              " 'saty',\n",
              " 'kudo',\n",
              " 'testicular',\n",
              " 'treure',\n",
              " 'legendaires',\n",
              " 'seasoning',\n",
              " 'franceman',\n",
              " 'edged',\n",
              " 'rats',\n",
              " 'operas',\n",
              " 'coma',\n",
              " 'kplanes',\n",
              " 'polar',\n",
              " 'blade',\n",
              " 'automating',\n",
              " 'partisipate',\n",
              " 'aiplanes',\n",
              " 'rss',\n",
              " 'lake',\n",
              " 'sobek',\n",
              " 'beffore',\n",
              " 'shouls',\n",
              " 'speeed',\n",
              " 'relitivly',\n",
              " 'iamcvh',\n",
              " 'diffcult',\n",
              " 'steel',\n",
              " 'insurgency',\n",
              " 'borderline',\n",
              " 'quirk',\n",
              " 'lloved',\n",
              " 'cities',\n",
              " 'truley',\n",
              " 'tains',\n",
              " 'spent',\n",
              " 'kant',\n",
              " 'left',\n",
              " 'upgrade',\n",
              " 'shoveling',\n",
              " 'ugh',\n",
              " 'prophecy',\n",
              " 'teenager',\n",
              " 'ejoys',\n",
              " 'funt',\n",
              " 'nono',\n",
              " 'defuses',\n",
              " 'doom',\n",
              " 'crew',\n",
              " 'slithery',\n",
              " 'replacement',\n",
              " 'uless',\n",
              " 'iti',\n",
              " 'voice',\n",
              " 'asyou',\n",
              " 'hostility',\n",
              " 'drunkenly',\n",
              " 'compertive',\n",
              " 'differentiated',\n",
              " 'coudn',\n",
              " 'environmentalists',\n",
              " 'miscellaneous',\n",
              " 'stirred',\n",
              " 'inconvinent',\n",
              " 'fuller',\n",
              " 'azz',\n",
              " 'rockin',\n",
              " 'seamlessly',\n",
              " 'livery',\n",
              " 'crumbs',\n",
              " 'enriched',\n",
              " 'beeing',\n",
              " 'ashante',\n",
              " 'silencer',\n",
              " 'paris',\n",
              " 'yhumbs',\n",
              " 'asss',\n",
              " 'asured',\n",
              " 'swilling',\n",
              " 'aftetr',\n",
              " 'mit',\n",
              " 'dragging',\n",
              " 'fullfill',\n",
              " 'certainly',\n",
              " 'fortess',\n",
              " 'advenure',\n",
              " 'faut',\n",
              " 'goofyness',\n",
              " 'fixated',\n",
              " 'soemwhat',\n",
              " 'instances',\n",
              " 'veyr',\n",
              " 'benched',\n",
              " 'assassinated',\n",
              " 'unhealthily',\n",
              " 'amassed',\n",
              " 'appreciates',\n",
              " 'scroll',\n",
              " 'impliment',\n",
              " 'speaker',\n",
              " 'themwith',\n",
              " 'heart',\n",
              " 'thnk',\n",
              " 'lego',\n",
              " 'summarized',\n",
              " 'baphomet',\n",
              " 'underwhelming',\n",
              " 'threesome',\n",
              " 'thorax',\n",
              " 'continuity',\n",
              " 'prophesy',\n",
              " 'anna',\n",
              " 'positivie',\n",
              " 'buyed',\n",
              " 'megabuilding',\n",
              " 'corporation',\n",
              " 'warry',\n",
              " 'girlfriend',\n",
              " 'pesty',\n",
              " 'miserable',\n",
              " 'esseentially',\n",
              " 'rhodes',\n",
              " 'millitary',\n",
              " 'afforementioned',\n",
              " 'exceuted',\n",
              " 'underclocked',\n",
              " 'arounbd',\n",
              " 'ultrawide',\n",
              " 'destructing',\n",
              " 'obliges',\n",
              " 'donkeys',\n",
              " 'dud',\n",
              " 'enviroments',\n",
              " 'neighhborhood',\n",
              " 'igniting',\n",
              " 'jabs',\n",
              " 'subterfuge',\n",
              " 'misson',\n",
              " 'meaty',\n",
              " 'comparitively',\n",
              " 'suppressing',\n",
              " 'meeting',\n",
              " 'screws',\n",
              " 'savings',\n",
              " 'observere',\n",
              " 'upps',\n",
              " 'rtte',\n",
              " 'swallow',\n",
              " 'creations',\n",
              " 'canned',\n",
              " 'bawks',\n",
              " 'speed',\n",
              " 'influences',\n",
              " 'tenacity',\n",
              " 'thrustmaster',\n",
              " 'writhe',\n",
              " 'demented',\n",
              " 'becomr',\n",
              " 'panicked',\n",
              " 'exctly',\n",
              " 'diese',\n",
              " 'musicians',\n",
              " 'oin',\n",
              " 'vuoi',\n",
              " 'gigantic',\n",
              " 'paybacks',\n",
              " 'gimped',\n",
              " 'pink',\n",
              " 'qworlds',\n",
              " 'blading',\n",
              " 'spells',\n",
              " 'duellists',\n",
              " 'skii',\n",
              " 'outskirts',\n",
              " 'slim',\n",
              " 'bury',\n",
              " 'fades',\n",
              " 'gierenhart',\n",
              " 'spaws',\n",
              " 'processors',\n",
              " 'unrealised',\n",
              " 'shoulder',\n",
              " 'biy',\n",
              " 'bee',\n",
              " 'fittings',\n",
              " 'leveles',\n",
              " 'ign',\n",
              " 'surpasing',\n",
              " 'shop',\n",
              " 'beutiful',\n",
              " 'reuptation',\n",
              " 'surpressor',\n",
              " 'grappler',\n",
              " 'fistedwhich',\n",
              " 'decoration',\n",
              " 'csr',\n",
              " 'tells',\n",
              " 'uncloak',\n",
              " 'preven',\n",
              " 'siriously',\n",
              " 'choreographed',\n",
              " 'sign',\n",
              " 'alternativa',\n",
              " 'cyst',\n",
              " 'keymark',\n",
              " 'stair',\n",
              " 'impossibility',\n",
              " 'prio',\n",
              " 'considerable',\n",
              " 'beat',\n",
              " 'consideration',\n",
              " 'rusains',\n",
              " 'relent',\n",
              " 'graphicnot',\n",
              " 'inhabit',\n",
              " 'boyfriend',\n",
              " 'improoving',\n",
              " 'reloaded',\n",
              " 'attributed',\n",
              " 'gs',\n",
              " 'prohibitively',\n",
              " 'passengers',\n",
              " 'fade',\n",
              " 'protecting',\n",
              " 'edid',\n",
              " 'voicebind',\n",
              " 'tempo',\n",
              " 'conceptd',\n",
              " 'karen',\n",
              " 'portobello',\n",
              " 'usernames',\n",
              " 'devolve',\n",
              " 'trynot',\n",
              " 'kickin',\n",
              " 'gunsight',\n",
              " 'bane',\n",
              " 'efficiency',\n",
              " 'fireproof',\n",
              " 'prix',\n",
              " 'yeah',\n",
              " 'finaly',\n",
              " 'outposts',\n",
              " 'peopple',\n",
              " 'descibed',\n",
              " 'locatian',\n",
              " 'pike',\n",
              " 'bound',\n",
              " 'green',\n",
              " 'disloyal',\n",
              " 'memo',\n",
              " 'aisha',\n",
              " 'peopl',\n",
              " 'ofter',\n",
              " 'cc',\n",
              " 'drilling',\n",
              " 'sakura',\n",
              " 'drunks',\n",
              " 'personalised',\n",
              " 'sentenced',\n",
              " 'duelling',\n",
              " 'skippable',\n",
              " 'blonde',\n",
              " 'impactful',\n",
              " 'ski',\n",
              " 'stapling',\n",
              " 'foolish',\n",
              " 'hites',\n",
              " 'hugge',\n",
              " 'chronomages',\n",
              " 'paused',\n",
              " 'personally',\n",
              " 'educated',\n",
              " 'compleat',\n",
              " 'spyro',\n",
              " 'amazingly',\n",
              " 'archtypes',\n",
              " 'thougth',\n",
              " 'dragonslayer',\n",
              " 'proto',\n",
              " 'shemselves',\n",
              " 'formal',\n",
              " 'lgend',\n",
              " 'sugared',\n",
              " 'unachiveble',\n",
              " 'kami',\n",
              " 'careers',\n",
              " 'goyjin',\n",
              " 'defenetely',\n",
              " 'skillshot',\n",
              " 'gargantuan',\n",
              " 'daddyo',\n",
              " 'vegetable',\n",
              " 'playbale',\n",
              " 'challanges',\n",
              " 'gamesalso',\n",
              " 'broadside',\n",
              " 'delect',\n",
              " 'drinking',\n",
              " 'wizard',\n",
              " 'monitized',\n",
              " 'bittersweet',\n",
              " 'win',\n",
              " 'teached',\n",
              " 'beacon',\n",
              " 'caliwood',\n",
              " 'stratigicly',\n",
              " 'chastised',\n",
              " 'togeather',\n",
              " 'spooky',\n",
              " 'beeping',\n",
              " 'provide',\n",
              " 'sidescroller',\n",
              " 'nostlagia',\n",
              " 'opponets',\n",
              " 'obs',\n",
              " 'makeso',\n",
              " 'judd',\n",
              " 'settlers',\n",
              " 'underpowered',\n",
              " 'fri',\n",
              " 'zoooooom',\n",
              " 'snot',\n",
              " 'garuanteed',\n",
              " 'trailrunner',\n",
              " 'contines',\n",
              " 'loggins',\n",
              " 'pathing',\n",
              " 'automate',\n",
              " 'stormblood',\n",
              " 'climate',\n",
              " 'unlockedit',\n",
              " 'als',\n",
              " 'refineing',\n",
              " 'anniversary',\n",
              " 'beneficial',\n",
              " 'include',\n",
              " 'nomore',\n",
              " 'underdog',\n",
              " 'loses',\n",
              " 'gasmask',\n",
              " 'blitzkrieg',\n",
              " 'fustrated',\n",
              " 'texturing',\n",
              " 'immedently',\n",
              " 'beavis',\n",
              " 'duplicate',\n",
              " 'pillage',\n",
              " 'vcs',\n",
              " 'wrrong',\n",
              " 'inviduals',\n",
              " 'stickybombs',\n",
              " 'myselfedit',\n",
              " 'declassified',\n",
              " 'funlike',\n",
              " 'posesses',\n",
              " 'fbml',\n",
              " 'predicament',\n",
              " 'cleverly',\n",
              " 'reagents',\n",
              " 'asleep',\n",
              " 'starteing',\n",
              " 'members',\n",
              " 'altered',\n",
              " 'figgit',\n",
              " 'chaffy',\n",
              " 'carefull',\n",
              " 'lags',\n",
              " 'advanced',\n",
              " 'birlliant',\n",
              " 'veranderde',\n",
              " 'stint',\n",
              " 'rescue',\n",
              " 'favirote',\n",
              " 'midgame',\n",
              " 'declining',\n",
              " 'wonderd',\n",
              " 'backstabbed',\n",
              " 'frags',\n",
              " 'squadron',\n",
              " 'pentrate',\n",
              " 'pyramid',\n",
              " 'relevance',\n",
              " 'bassically',\n",
              " 'unplayable',\n",
              " 'shitwagon',\n",
              " 'newbi',\n",
              " 'sealclub',\n",
              " 'input',\n",
              " 'gamei',\n",
              " 'famillar',\n",
              " 'maia',\n",
              " 'dlco',\n",
              " 'tri',\n",
              " 'destructable',\n",
              " 'hamfisted',\n",
              " 'intends',\n",
              " 'option',\n",
              " 'dunn',\n",
              " 'steph',\n",
              " 'weaponry',\n",
              " 'wildness',\n",
              " 'farmv',\n",
              " 'slimes',\n",
              " 'terrestrial',\n",
              " 'pinging',\n",
              " 'grapchics',\n",
              " 'middleware',\n",
              " 'eases',\n",
              " 'boobsi',\n",
              " 'ammounts',\n",
              " 'csgo',\n",
              " 'habbit',\n",
              " 'flush',\n",
              " 'tourneys',\n",
              " 'exmple',\n",
              " 'splitted',\n",
              " 'labled',\n",
              " 'smarter',\n",
              " 'obnoxiously',\n",
              " 'laggiest',\n",
              " 'literal',\n",
              " 'lattices',\n",
              " 'lullabies',\n",
              " 'unneccesery',\n",
              " 'managers',\n",
              " 'german',\n",
              " 'cheerful',\n",
              " 'experinced',\n",
              " 'multiplatform',\n",
              " 'treem',\n",
              " 'fantazmastic',\n",
              " 'unbeliavable',\n",
              " 'overpowering',\n",
              " 'blunt',\n",
              " 'maitenance',\n",
              " 'chalenging',\n",
              " 'isjust',\n",
              " 'chuckle',\n",
              " 'contorols',\n",
              " 'repurchasing',\n",
              " 'curbstoms',\n",
              " 'tthe',\n",
              " 'charismatic',\n",
              " 'aphrodisiac',\n",
              " 'mumble',\n",
              " 'piggy',\n",
              " 'repetition',\n",
              " 'twets',\n",
              " 'unstocked',\n",
              " 'browsefilter',\n",
              " 'simplified',\n",
              " 'fz',\n",
              " 'maed',\n",
              " 'astounishing',\n",
              " 'fotress',\n",
              " 'cigarette',\n",
              " 'relay',\n",
              " 'suposed',\n",
              " 'stable',\n",
              " 'unbiased',\n",
              " 'density',\n",
              " 'drau',\n",
              " 'duals',\n",
              " 'quantitative',\n",
              " 'observations',\n",
              " 'universal',\n",
              " 'protracted',\n",
              " 'commenst',\n",
              " 'thingswhy',\n",
              " 'clask',\n",
              " 'howdy',\n",
              " 'ightning',\n",
              " 'blades',\n",
              " 'firearms',\n",
              " 'resurrected',\n",
              " 'hourse',\n",
              " 'changewing',\n",
              " 'upseting',\n",
              " 'variances',\n",
              " 'purchacing',\n",
              " 'spesialy',\n",
              " 'patent',\n",
              " 'hatch',\n",
              " 'neil',\n",
              " 'nets',\n",
              " 'coke',\n",
              " 'looking',\n",
              " 'udnerstand',\n",
              " 'aging',\n",
              " 'enactment',\n",
              " 'expertise',\n",
              " 'flax',\n",
              " 'risque',\n",
              " 'imense',\n",
              " 'salesman',\n",
              " 'strengths',\n",
              " 'impressively',\n",
              " 'newwb',\n",
              " 'pollen',\n",
              " 'control',\n",
              " 'moneygaining',\n",
              " 'bambi',\n",
              " 'trip',\n",
              " 'spare',\n",
              " 'galactica',\n",
              " 'splattergun',\n",
              " 'interest',\n",
              " 'bag',\n",
              " 'mn',\n",
              " 'vidicuts',\n",
              " 'hkcu',\n",
              " 'switches',\n",
              " 'uh',\n",
              " 'pleanty',\n",
              " 'dashes',\n",
              " 'woulda',\n",
              " 'fatha',\n",
              " 'chalenge',\n",
              " 'gerneral',\n",
              " 'repaired',\n",
              " 'anyones',\n",
              " 'overshadowed',\n",
              " 'freeeeeeeeeeeeeeeeeeeeeeeeeeeeeee',\n",
              " 'oce',\n",
              " 'sheidl',\n",
              " 'vaporizing',\n",
              " 'evily',\n",
              " 'compleating',\n",
              " 'amercian',\n",
              " 'plebs',\n",
              " 'dallers',\n",
              " 'mygames',\n",
              " 'daybreak',\n",
              " 'emberassing',\n",
              " 'takea',\n",
              " 'evasiveness',\n",
              " 'ahistorically',\n",
              " 'mission',\n",
              " 'compleated',\n",
              " 'overlall',\n",
              " 'png',\n",
              " 'confinement',\n",
              " 'markipler',\n",
              " 'mesmerized',\n",
              " 'extramely',\n",
              " 'hearthstones',\n",
              " 'arouns',\n",
              " 'occassion',\n",
              " 'sooner',\n",
              " 'typical',\n",
              " 'everywepon',\n",
              " 'retract',\n",
              " 'freespent',\n",
              " 'kool',\n",
              " 'foreigners',\n",
              " 'danm',\n",
              " 'integrally',\n",
              " 'signifacntly',\n",
              " 'require',\n",
              " 'droid',\n",
              " 'spookiest',\n",
              " 'creeper',\n",
              " 'timecreate',\n",
              " 'freeblood',\n",
              " 'autistics',\n",
              " 'spellweaver',\n",
              " 'conveyor',\n",
              " 'sausages',\n",
              " 'laser',\n",
              " 'tapjoy',\n",
              " 'lobg',\n",
              " 'underpants',\n",
              " 'vd',\n",
              " 'opne',\n",
              " 'repair',\n",
              " 'teenage',\n",
              " 'rogues',\n",
              " 'discounts',\n",
              " 'defnsive',\n",
              " 'fells',\n",
              " 'thriller',\n",
              " 'recommenned',\n",
              " 'cleavage',\n",
              " 'recital',\n",
              " 'evenigs',\n",
              " 'holesthere',\n",
              " 'dident',\n",
              " 'gifts',\n",
              " 'chatbox',\n",
              " 'coaster',\n",
              " 'adjusting',\n",
              " 'manhattan',\n",
              " 'translator',\n",
              " 'margaret',\n",
              " 'thundering',\n",
              " 'underwear',\n",
              " 'luther',\n",
              " 'gesus',\n",
              " 'realising',\n",
              " 'ee',\n",
              " 'trams',\n",
              " 'progress',\n",
              " 'requestspro',\n",
              " 'devolpers',\n",
              " 'bodies',\n",
              " 'playng',\n",
              " 'ahmet',\n",
              " 'riview',\n",
              " 'viechles',\n",
              " 'kabam',\n",
              " 'ocassionally',\n",
              " 'aspirations',\n",
              " 'boosts',\n",
              " 'imitating',\n",
              " 'dwindled',\n",
              " 'panel',\n",
              " 'theme',\n",
              " 'electroplates',\n",
              " 'afb',\n",
              " 'reason',\n",
              " 'orchanged',\n",
              " 'bronz',\n",
              " 'russland',\n",
              " 'experte',\n",
              " 'kegs',\n",
              " 'restraints',\n",
              " 'recipies',\n",
              " 'btd',\n",
              " 'trololers',\n",
              " 'freezed',\n",
              " 'triad',\n",
              " 'addicitivly',\n",
              " 'wizards',\n",
              " 'ohhhhh',\n",
              " 'pilots',\n",
              " 'battleblock',\n",
              " 'riffles',\n",
              " 'availables',\n",
              " 'hackfest',\n",
              " 'genearl',\n",
              " 'explicit',\n",
              " 'crasahed',\n",
              " 'mindtricks',\n",
              " 'hacker',\n",
              " 'dexterity',\n",
              " 'repitive',\n",
              " 'dddd',\n",
              " 'pained',\n",
              " 'muddles',\n",
              " 'mutha',\n",
              " 'torpedo',\n",
              " 'imitations',\n",
              " 'coordinated',\n",
              " 'carthy',\n",
              " 'uhttps',\n",
              " 'tangable',\n",
              " 'aaaaaaaa',\n",
              " 'nodding',\n",
              " 'intented',\n",
              " 'unclear',\n",
              " 'boatload',\n",
              " 'searchable',\n",
              " 'chizard',\n",
              " 'caribou',\n",
              " 'banhammer',\n",
              " 'sent',\n",
              " 'brutally',\n",
              " 'boats',\n",
              " 'intersect',\n",
              " 'contacts',\n",
              " 'bavarian',\n",
              " 'sountrack',\n",
              " 'smokebombing',\n",
              " 'infancy',\n",
              " 'focussed',\n",
              " 'zergy',\n",
              " 'desing',\n",
              " 'ribeye',\n",
              " 'dodgebomb',\n",
              " 'throb',\n",
              " 'aboat',\n",
              " 'developing',\n",
              " 'surge',\n",
              " 'especialy',\n",
              " 'indistinguishable',\n",
              " 'sollution',\n",
              " 'page',\n",
              " 'sence',\n",
              " 'nuance',\n",
              " 'promiseing',\n",
              " 'grindier',\n",
              " 'scissor',\n",
              " 'shrugs',\n",
              " 'blizz',\n",
              " 'incompletely',\n",
              " 'runner',\n",
              " 'fails',\n",
              " 'stamia',\n",
              " 'focke',\n",
              " 'rectangular',\n",
              " 'cheter',\n",
              " 'mineral',\n",
              " 'ssss',\n",
              " 'mattered',\n",
              " 'fruitful',\n",
              " 'acuity',\n",
              " 'otterly',\n",
              " 'trusedale',\n",
              " 'reconnaisance',\n",
              " 'defs',\n",
              " 'worrying',\n",
              " 'ethey',\n",
              " 'unpixelized',\n",
              " 'beefy',\n",
              " 'capturess',\n",
              " 'bsod',\n",
              " 'contentment',\n",
              " 'cutlass',\n",
              " 'lying',\n",
              " 'brawlhala',\n",
              " 'variations',\n",
              " 'casts',\n",
              " 'tramendously',\n",
              " 'sponsor',\n",
              " 'offlane',\n",
              " 'haveing',\n",
              " 'bay',\n",
              " 'humor',\n",
              " 'stocked',\n",
              " 'inhale',\n",
              " 'facilities',\n",
              " 'eludes',\n",
              " 'arrays',\n",
              " 'vte',\n",
              " 'nyc',\n",
              " 'lightyear',\n",
              " 'unatural',\n",
              " 'joff',\n",
              " 'unlilke',\n",
              " 'deformed',\n",
              " 'past',\n",
              " 'invisible',\n",
              " 'film',\n",
              " 'furniture',\n",
              " 'defeatist',\n",
              " 'excersize',\n",
              " 'penn',\n",
              " 'published',\n",
              " 'poop',\n",
              " 'tranquilized',\n",
              " 'greattechtree',\n",
              " 'abondoned',\n",
              " 'istaria',\n",
              " 'detrmination',\n",
              " 'emotionless',\n",
              " 'summons',\n",
              " 'meh',\n",
              " 'balanaced',\n",
              " 'faceit',\n",
              " 'severed',\n",
              " 'misc',\n",
              " 'distruptor',\n",
              " 'outshone',\n",
              " 'experience',\n",
              " 'obey',\n",
              " 'thousent',\n",
              " 'suspending',\n",
              " 'classic',\n",
              " 'refinement',\n",
              " 'fettuccini',\n",
              " 'chalk',\n",
              " 'quicly',\n",
              " 'cherecter',\n",
              " 'modest',\n",
              " 'oven',\n",
              " 'ram',\n",
              " 'flashing',\n",
              " 'sy',\n",
              " 'slutter',\n",
              " 'keyworded',\n",
              " 'hives',\n",
              " 'tombs',\n",
              " 'geothermal',\n",
              " 'improves',\n",
              " 'lma',\n",
              " 'iap',\n",
              " 'successor',\n",
              " 'biffi',\n",
              " 'weak',\n",
              " 'gautlet',\n",
              " 'conflict',\n",
              " 'marvelous',\n",
              " 'lime',\n",
              " 'hmhmhmhmmh',\n",
              " 'year',\n",
              " 'gun',\n",
              " 'meat',\n",
              " 'babes',\n",
              " 'nostalgiagiggle',\n",
              " 'adapted',\n",
              " 'jevry',\n",
              " 'refere',\n",
              " 'qc',\n",
              " 'chainsaw',\n",
              " 'viewpoint',\n",
              " 'fremium',\n",
              " 'eurobros',\n",
              " 'speculative',\n",
              " 'microwave',\n",
              " 'contemplating',\n",
              " 'resistances',\n",
              " 'leeway',\n",
              " 'detector',\n",
              " 'muscles',\n",
              " 'supernatural',\n",
              " 'amage',\n",
              " 'systema',\n",
              " 'breakfast',\n",
              " 'recruitment',\n",
              " 'mespooky',\n",
              " 'skame',\n",
              " 'spoopiness',\n",
              " 'splus',\n",
              " 'shells',\n",
              " 'nonlinear',\n",
              " 'incursion',\n",
              " 'adition',\n",
              " 'squares',\n",
              " 'ax',\n",
              " 'samer',\n",
              " 'believer',\n",
              " 'brotherhood',\n",
              " 'realisitically',\n",
              " 'attribs',\n",
              " 'freestyle',\n",
              " 'reading',\n",
              " 'abiltity',\n",
              " 'gunship',\n",
              " 'flops',\n",
              " 'happilly',\n",
              " 'hortons',\n",
              " 'rereview',\n",
              " 'choice',\n",
              " 'jokerune',\n",
              " 'sanic',\n",
              " 'unskilled',\n",
              " 'nipp',\n",
              " 'qm',\n",
              " 'taxes',\n",
              " 'whos',\n",
              " 'ghoast',\n",
              " 'sanvich',\n",
              " 'simmer',\n",
              " 'rhetoric',\n",
              " 'monthsreason',\n",
              " 'originally',\n",
              " 'drakath',\n",
              " 'specifec',\n",
              " 'chappie',\n",
              " 'ticked',\n",
              " 'swindlers',\n",
              " 'highlord',\n",
              " 'verion',\n",
              " 'wallha',\n",
              " 'xfailed',\n",
              " 'regrind',\n",
              " 'elementals',\n",
              " 'scam',\n",
              " 'druglike',\n",
              " 'nut',\n",
              " 'lamborghini',\n",
              " 'overindulgent',\n",
              " 'uncrating',\n",
              " 'glanced',\n",
              " 'letter',\n",
              " 'sunbathing',\n",
              " 'chars',\n",
              " 'tried',\n",
              " 'uhuhuhuhuh',\n",
              " 'image',\n",
              " 'weighty',\n",
              " 'itwont',\n",
              " 'languge',\n",
              " 'resurrect',\n",
              " 'beliefs',\n",
              " 'stright',\n",
              " 'irritable',\n",
              " 'controlling',\n",
              " 'demands',\n",
              " 'premiere',\n",
              " 'lessens',\n",
              " 'reminder',\n",
              " 'hates',\n",
              " 'introducation',\n",
              " 'qnigue',\n",
              " 'doinng',\n",
              " 'fountain',\n",
              " 'halted',\n",
              " 'disasemble',\n",
              " 'jy',\n",
              " 'corresponds',\n",
              " 'zarlath',\n",
              " 'circumvented',\n",
              " 'gillette',\n",
              " 'pp',\n",
              " 'belonged',\n",
              " 'crisis',\n",
              " 'dutyish',\n",
              " 'billybobjoe',\n",
              " 'dodgey',\n",
              " 'cetera',\n",
              " 'underestimate',\n",
              " 'joistck',\n",
              " 'miasto',\n",
              " 'sthis',\n",
              " 'sensitivity',\n",
              " 'tlegends',\n",
              " 'newell',\n",
              " 'officially',\n",
              " 'withholding',\n",
              " 'competitor',\n",
              " 'kinding',\n",
              " 'comapny',\n",
              " 'airvictory',\n",
              " 'intice',\n",
              " 'challeneging',\n",
              " 'gaeq',\n",
              " 'jolling',\n",
              " 'scp',\n",
              " 'felt',\n",
              " 'metacritic',\n",
              " 'heavly',\n",
              " 'powercrept',\n",
              " 'tacked',\n",
              " 'slotmachine',\n",
              " 'unabh',\n",
              " 'rubbish',\n",
              " 'smallflashy',\n",
              " 'assasination',\n",
              " 'demise',\n",
              " 'fierd',\n",
              " 'bought',\n",
              " 'kof',\n",
              " 'faking',\n",
              " 'enjoy',\n",
              " 'ushally',\n",
              " 'speeding',\n",
              " 'rebuying',\n",
              " 'mare',\n",
              " 'patriarch',\n",
              " 'brutal',\n",
              " 'milllion',\n",
              " 'kemonomimis',\n",
              " 'shutting',\n",
              " 'chapin',\n",
              " 'vistas',\n",
              " 'ellington',\n",
              " 'hebben',\n",
              " 'ringcrafting',\n",
              " 'hangs',\n",
              " 'robe',\n",
              " 'airiel',\n",
              " 'tons',\n",
              " 'bez',\n",
              " 'circle',\n",
              " 'diie',\n",
              " 'skin',\n",
              " 'tinkering',\n",
              " 'association',\n",
              " 'armee',\n",
              " 'snap',\n",
              " 'forgot',\n",
              " 'deathmashines',\n",
              " 'arcad',\n",
              " 'acutally',\n",
              " 'weem',\n",
              " 'rico',\n",
              " 'dismissing',\n",
              " 'lon',\n",
              " 'enormous',\n",
              " 'captain',\n",
              " 'stratified',\n",
              " 'fortunately',\n",
              " 'propose',\n",
              " 'proven',\n",
              " ...]"
            ]
          },
          "metadata": {
            "tags": []
          },
          "execution_count": 33
        }
      ]
    },
    {
      "cell_type": "markdown",
      "metadata": {
        "id": "sRKqbIAV48c_",
        "colab_type": "text"
      },
      "source": [
        "**Word Cloud of words in the vocabulary**\n",
        "\n",
        "Word cloud is an image composed of words used in a particular text or subject, in which the size of each word indicates its frequency or importance.So, the more often a specific words appears in your text, the bigger and bolder it appears in your word cloud."
      ]
    },
    {
      "cell_type": "code",
      "metadata": {
        "id": "2bKOSme1vxgB",
        "colab_type": "code",
        "colab": {
          "base_uri": "https://localhost:8080/",
          "height": 354
        },
        "outputId": "20df6d85-cd68-4a54-c4b6-177890a9bf22"
      },
      "source": [
        "from wordcloud import WordCloud\n",
        "wordcloud_text = \" \".join(vocab)\n",
        "\n",
        "wordcloud =  WordCloud(width=850, height=450, background_color=\"black\", max_words=500, max_font_size=100, \n",
        "                       contour_width=2, contour_color='black').generate(wordcloud_text)\n",
        "  \n",
        "# plot the WordCloud image                        \n",
        "plt.figure(figsize = (8, 8), facecolor = None) \n",
        "plt.imshow(wordcloud, interpolation='bilinear') \n",
        "plt.title(\"WORD CLOUD OF REVIEWS\", fontsize=16)\n",
        "plt.axis(\"off\") \n",
        "plt.tight_layout(pad = 0) \n",
        "  \n",
        "plt.show() "
      ],
      "execution_count": 34,
      "outputs": [
        {
          "output_type": "display_data",
          "data": {
            "image/png": "[encoded data removed]",
            "text/plain": [
              "<Figure size 576x576 with 1 Axes>"
            ]
          },
          "metadata": {
            "tags": [],
            "needs_background": "light"
          }
        }
      ]
    },
    {
      "cell_type": "code",
      "metadata": {
        "id": "q14WAvIdEnjH",
        "colab_type": "code",
        "colab": {
          "base_uri": "https://localhost:8080/",
          "height": 34
        },
        "outputId": "2edc5565-b290-492a-a86d-a7d9b5c16a7d"
      },
      "source": [
        "vectorizer = LabelEncoder()\n",
        "vectorizer.fit(vocabulary)"
      ],
      "execution_count": 35,
      "outputs": [
        {
          "output_type": "execute_result",
          "data": {
            "text/plain": [
              "LabelEncoder()"
            ]
          },
          "metadata": {
            "tags": []
          },
          "execution_count": 35
        }
      ]
    },
    {
      "cell_type": "code",
      "metadata": {
        "id": "Zbu5r9h5FO6c",
        "colab_type": "code",
        "colab": {
          "base_uri": "https://localhost:8080/",
          "height": 443
        },
        "outputId": "52d309c0-3fe5-4bc4-a4cf-00958910f76a"
      },
      "source": [
        "# Create token vector using Label Encoder fit on entire vocabulary\n",
        "\n",
        "token_vector = []\n",
        "\n",
        "# declare max_words to keep count of the longest sentence vectorized\n",
        "# we need this to pad every other vector to same length as longest vector\n",
        "\n",
        "max_tokens = 0\n",
        "for row in review_tokens:\n",
        "  encoded = vectorizer.transform(row).tolist()\n",
        "  size = len(encoded)\n",
        "  if size > max_tokens:\n",
        "    max_tokens = size\n",
        "  token_vector.append(encoded)"
      ],
      "execution_count": 36,
      "outputs": [
        {
          "output_type": "error",
          "ename": "KeyboardInterrupt",
          "evalue": "ignored",
          "traceback": [
            "\u001b[0;31m---------------------------------------------------------------------------\u001b[0m",
            "\u001b[0;31mKeyboardInterrupt\u001b[0m                         Traceback (most recent call last)",
            "\u001b[0;32m<ipython-input-36-71d962ee6fb7>\u001b[0m in \u001b[0;36m<module>\u001b[0;34m()\u001b[0m\n\u001b[1;32m      8\u001b[0m \u001b[0mmax_tokens\u001b[0m \u001b[0;34m=\u001b[0m \u001b[0;36m0\u001b[0m\u001b[0;34m\u001b[0m\u001b[0;34m\u001b[0m\u001b[0m\n\u001b[1;32m      9\u001b[0m \u001b[0;32mfor\u001b[0m \u001b[0mrow\u001b[0m \u001b[0;32min\u001b[0m \u001b[0mreview_tokens\u001b[0m\u001b[0;34m:\u001b[0m\u001b[0;34m\u001b[0m\u001b[0;34m\u001b[0m\u001b[0m\n\u001b[0;32m---> 10\u001b[0;31m   \u001b[0mencoded\u001b[0m \u001b[0;34m=\u001b[0m \u001b[0mvectorizer\u001b[0m\u001b[0;34m.\u001b[0m\u001b[0mtransform\u001b[0m\u001b[0;34m(\u001b[0m\u001b[0mrow\u001b[0m\u001b[0;34m)\u001b[0m\u001b[0;34m.\u001b[0m\u001b[0mtolist\u001b[0m\u001b[0;34m(\u001b[0m\u001b[0;34m)\u001b[0m\u001b[0;34m\u001b[0m\u001b[0;34m\u001b[0m\u001b[0m\n\u001b[0m\u001b[1;32m     11\u001b[0m   \u001b[0msize\u001b[0m \u001b[0;34m=\u001b[0m \u001b[0mlen\u001b[0m\u001b[0;34m(\u001b[0m\u001b[0mencoded\u001b[0m\u001b[0;34m)\u001b[0m\u001b[0;34m\u001b[0m\u001b[0;34m\u001b[0m\u001b[0m\n\u001b[1;32m     12\u001b[0m   \u001b[0;32mif\u001b[0m \u001b[0msize\u001b[0m \u001b[0;34m>\u001b[0m \u001b[0mmax_tokens\u001b[0m\u001b[0;34m:\u001b[0m\u001b[0;34m\u001b[0m\u001b[0;34m\u001b[0m\u001b[0m\n",
            "\u001b[0;32m/usr/local/lib/python3.6/dist-packages/sklearn/preprocessing/_label.py\u001b[0m in \u001b[0;36mtransform\u001b[0;34m(self, y)\u001b[0m\n\u001b[1;32m    271\u001b[0m             \u001b[0;32mreturn\u001b[0m \u001b[0mnp\u001b[0m\u001b[0;34m.\u001b[0m\u001b[0marray\u001b[0m\u001b[0;34m(\u001b[0m\u001b[0;34m[\u001b[0m\u001b[0;34m]\u001b[0m\u001b[0;34m)\u001b[0m\u001b[0;34m\u001b[0m\u001b[0;34m\u001b[0m\u001b[0m\n\u001b[1;32m    272\u001b[0m \u001b[0;34m\u001b[0m\u001b[0m\n\u001b[0;32m--> 273\u001b[0;31m         \u001b[0m_\u001b[0m\u001b[0;34m,\u001b[0m \u001b[0my\u001b[0m \u001b[0;34m=\u001b[0m \u001b[0m_encode\u001b[0m\u001b[0;34m(\u001b[0m\u001b[0my\u001b[0m\u001b[0;34m,\u001b[0m \u001b[0muniques\u001b[0m\u001b[0;34m=\u001b[0m\u001b[0mself\u001b[0m\u001b[0;34m.\u001b[0m\u001b[0mclasses_\u001b[0m\u001b[0;34m,\u001b[0m \u001b[0mencode\u001b[0m\u001b[0;34m=\u001b[0m\u001b[0;32mTrue\u001b[0m\u001b[0;34m)\u001b[0m\u001b[0;34m\u001b[0m\u001b[0;34m\u001b[0m\u001b[0m\n\u001b[0m\u001b[1;32m    274\u001b[0m         \u001b[0;32mreturn\u001b[0m \u001b[0my\u001b[0m\u001b[0;34m\u001b[0m\u001b[0;34m\u001b[0m\u001b[0m\n\u001b[1;32m    275\u001b[0m \u001b[0;34m\u001b[0m\u001b[0m\n",
            "\u001b[0;32m/usr/local/lib/python3.6/dist-packages/sklearn/preprocessing/_label.py\u001b[0m in \u001b[0;36m_encode\u001b[0;34m(values, uniques, encode, check_unknown)\u001b[0m\n\u001b[1;32m    116\u001b[0m     \u001b[0;32melse\u001b[0m\u001b[0;34m:\u001b[0m\u001b[0;34m\u001b[0m\u001b[0;34m\u001b[0m\u001b[0m\n\u001b[1;32m    117\u001b[0m         return _encode_numpy(values, uniques, encode,\n\u001b[0;32m--> 118\u001b[0;31m                              check_unknown=check_unknown)\n\u001b[0m\u001b[1;32m    119\u001b[0m \u001b[0;34m\u001b[0m\u001b[0m\n\u001b[1;32m    120\u001b[0m \u001b[0;34m\u001b[0m\u001b[0m\n",
            "\u001b[0;32m/usr/local/lib/python3.6/dist-packages/sklearn/preprocessing/_label.py\u001b[0m in \u001b[0;36m_encode_numpy\u001b[0;34m(values, uniques, encode, check_unknown)\u001b[0m\n\u001b[1;32m     45\u001b[0m     \u001b[0;32mif\u001b[0m \u001b[0mencode\u001b[0m\u001b[0;34m:\u001b[0m\u001b[0;34m\u001b[0m\u001b[0;34m\u001b[0m\u001b[0m\n\u001b[1;32m     46\u001b[0m         \u001b[0;32mif\u001b[0m \u001b[0mcheck_unknown\u001b[0m\u001b[0;34m:\u001b[0m\u001b[0;34m\u001b[0m\u001b[0;34m\u001b[0m\u001b[0m\n\u001b[0;32m---> 47\u001b[0;31m             \u001b[0mdiff\u001b[0m \u001b[0;34m=\u001b[0m \u001b[0m_encode_check_unknown\u001b[0m\u001b[0;34m(\u001b[0m\u001b[0mvalues\u001b[0m\u001b[0;34m,\u001b[0m \u001b[0muniques\u001b[0m\u001b[0;34m)\u001b[0m\u001b[0;34m\u001b[0m\u001b[0;34m\u001b[0m\u001b[0m\n\u001b[0m\u001b[1;32m     48\u001b[0m             \u001b[0;32mif\u001b[0m \u001b[0mdiff\u001b[0m\u001b[0;34m:\u001b[0m\u001b[0;34m\u001b[0m\u001b[0;34m\u001b[0m\u001b[0m\n\u001b[1;32m     49\u001b[0m                 raise ValueError(\"y contains previously unseen labels: %s\"\n",
            "\u001b[0;32m/usr/local/lib/python3.6/dist-packages/sklearn/preprocessing/_label.py\u001b[0m in \u001b[0;36m_encode_check_unknown\u001b[0;34m(values, uniques, return_mask)\u001b[0m\n\u001b[1;32m    158\u001b[0m     \u001b[0;32melse\u001b[0m\u001b[0;34m:\u001b[0m\u001b[0;34m\u001b[0m\u001b[0;34m\u001b[0m\u001b[0m\n\u001b[1;32m    159\u001b[0m         \u001b[0munique_values\u001b[0m \u001b[0;34m=\u001b[0m \u001b[0mnp\u001b[0m\u001b[0;34m.\u001b[0m\u001b[0munique\u001b[0m\u001b[0;34m(\u001b[0m\u001b[0mvalues\u001b[0m\u001b[0;34m)\u001b[0m\u001b[0;34m\u001b[0m\u001b[0;34m\u001b[0m\u001b[0m\n\u001b[0;32m--> 160\u001b[0;31m         \u001b[0mdiff\u001b[0m \u001b[0;34m=\u001b[0m \u001b[0mlist\u001b[0m\u001b[0;34m(\u001b[0m\u001b[0mnp\u001b[0m\u001b[0;34m.\u001b[0m\u001b[0msetdiff1d\u001b[0m\u001b[0;34m(\u001b[0m\u001b[0munique_values\u001b[0m\u001b[0;34m,\u001b[0m \u001b[0muniques\u001b[0m\u001b[0;34m,\u001b[0m \u001b[0massume_unique\u001b[0m\u001b[0;34m=\u001b[0m\u001b[0;32mTrue\u001b[0m\u001b[0;34m)\u001b[0m\u001b[0;34m)\u001b[0m\u001b[0;34m\u001b[0m\u001b[0;34m\u001b[0m\u001b[0m\n\u001b[0m\u001b[1;32m    161\u001b[0m         \u001b[0;32mif\u001b[0m \u001b[0mreturn_mask\u001b[0m\u001b[0;34m:\u001b[0m\u001b[0;34m\u001b[0m\u001b[0;34m\u001b[0m\u001b[0m\n\u001b[1;32m    162\u001b[0m             \u001b[0;32mif\u001b[0m \u001b[0mdiff\u001b[0m\u001b[0;34m:\u001b[0m\u001b[0;34m\u001b[0m\u001b[0;34m\u001b[0m\u001b[0m\n",
            "\u001b[0;32m<__array_function__ internals>\u001b[0m in \u001b[0;36msetdiff1d\u001b[0;34m(*args, **kwargs)\u001b[0m\n",
            "\u001b[0;32m/usr/local/lib/python3.6/dist-packages/numpy/lib/arraysetops.py\u001b[0m in \u001b[0;36msetdiff1d\u001b[0;34m(ar1, ar2, assume_unique)\u001b[0m\n\u001b[1;32m    785\u001b[0m         \u001b[0mar1\u001b[0m \u001b[0;34m=\u001b[0m \u001b[0munique\u001b[0m\u001b[0;34m(\u001b[0m\u001b[0mar1\u001b[0m\u001b[0;34m)\u001b[0m\u001b[0;34m\u001b[0m\u001b[0;34m\u001b[0m\u001b[0m\n\u001b[1;32m    786\u001b[0m         \u001b[0mar2\u001b[0m \u001b[0;34m=\u001b[0m \u001b[0munique\u001b[0m\u001b[0;34m(\u001b[0m\u001b[0mar2\u001b[0m\u001b[0;34m)\u001b[0m\u001b[0;34m\u001b[0m\u001b[0;34m\u001b[0m\u001b[0m\n\u001b[0;32m--> 787\u001b[0;31m     \u001b[0;32mreturn\u001b[0m \u001b[0mar1\u001b[0m\u001b[0;34m[\u001b[0m\u001b[0min1d\u001b[0m\u001b[0;34m(\u001b[0m\u001b[0mar1\u001b[0m\u001b[0;34m,\u001b[0m \u001b[0mar2\u001b[0m\u001b[0;34m,\u001b[0m \u001b[0massume_unique\u001b[0m\u001b[0;34m=\u001b[0m\u001b[0;32mTrue\u001b[0m\u001b[0;34m,\u001b[0m \u001b[0minvert\u001b[0m\u001b[0;34m=\u001b[0m\u001b[0;32mTrue\u001b[0m\u001b[0;34m)\u001b[0m\u001b[0;34m]\u001b[0m\u001b[0;34m\u001b[0m\u001b[0;34m\u001b[0m\u001b[0m\n\u001b[0m\u001b[1;32m    788\u001b[0m \u001b[0;34m\u001b[0m\u001b[0m\n",
            "\u001b[0;32m<__array_function__ internals>\u001b[0m in \u001b[0;36min1d\u001b[0;34m(*args, **kwargs)\u001b[0m\n",
            "\u001b[0;32m/usr/local/lib/python3.6/dist-packages/numpy/lib/arraysetops.py\u001b[0m in \u001b[0;36min1d\u001b[0;34m(ar1, ar2, assume_unique, invert)\u001b[0m\n\u001b[1;32m    582\u001b[0m     \u001b[0msar\u001b[0m \u001b[0;34m=\u001b[0m \u001b[0mar\u001b[0m\u001b[0;34m[\u001b[0m\u001b[0morder\u001b[0m\u001b[0;34m]\u001b[0m\u001b[0;34m\u001b[0m\u001b[0;34m\u001b[0m\u001b[0m\n\u001b[1;32m    583\u001b[0m     \u001b[0;32mif\u001b[0m \u001b[0minvert\u001b[0m\u001b[0;34m:\u001b[0m\u001b[0;34m\u001b[0m\u001b[0;34m\u001b[0m\u001b[0m\n\u001b[0;32m--> 584\u001b[0;31m         \u001b[0mbool_ar\u001b[0m \u001b[0;34m=\u001b[0m \u001b[0;34m(\u001b[0m\u001b[0msar\u001b[0m\u001b[0;34m[\u001b[0m\u001b[0;36m1\u001b[0m\u001b[0;34m:\u001b[0m\u001b[0;34m]\u001b[0m \u001b[0;34m!=\u001b[0m \u001b[0msar\u001b[0m\u001b[0;34m[\u001b[0m\u001b[0;34m:\u001b[0m\u001b[0;34m-\u001b[0m\u001b[0;36m1\u001b[0m\u001b[0;34m]\u001b[0m\u001b[0;34m)\u001b[0m\u001b[0;34m\u001b[0m\u001b[0;34m\u001b[0m\u001b[0m\n\u001b[0m\u001b[1;32m    585\u001b[0m     \u001b[0;32melse\u001b[0m\u001b[0;34m:\u001b[0m\u001b[0;34m\u001b[0m\u001b[0;34m\u001b[0m\u001b[0m\n\u001b[1;32m    586\u001b[0m         \u001b[0mbool_ar\u001b[0m \u001b[0;34m=\u001b[0m \u001b[0;34m(\u001b[0m\u001b[0msar\u001b[0m\u001b[0;34m[\u001b[0m\u001b[0;36m1\u001b[0m\u001b[0;34m:\u001b[0m\u001b[0;34m]\u001b[0m \u001b[0;34m==\u001b[0m \u001b[0msar\u001b[0m\u001b[0;34m[\u001b[0m\u001b[0;34m:\u001b[0m\u001b[0;34m-\u001b[0m\u001b[0;36m1\u001b[0m\u001b[0;34m]\u001b[0m\u001b[0;34m)\u001b[0m\u001b[0;34m\u001b[0m\u001b[0;34m\u001b[0m\u001b[0m\n",
            "\u001b[0;31mKeyboardInterrupt\u001b[0m: "
          ]
        }
      ]
    },
    {
      "cell_type": "code",
      "metadata": {
        "id": "LTs7bZ6ZFcGl",
        "colab_type": "code",
        "colab": {}
      },
      "source": [
        "# Check longest vector length\n",
        "\n",
        "max_tokens"
      ],
      "execution_count": 0,
      "outputs": []
    },
    {
      "cell_type": "code",
      "metadata": {
        "id": "Vh4O5LQ1IXbj",
        "colab_type": "code",
        "colab": {}
      },
      "source": [
        "# Pad every vector in token vector corpus to be as long as longest vector\n",
        "\n",
        "padded = []\n",
        "\n",
        "for row in token_vector:\n",
        "  r = np.pad(row, (0, max_tokens-len(row)), 'constant')\n",
        "  padded.append(r) "
      ],
      "execution_count": 0,
      "outputs": []
    },
    {
      "cell_type": "code",
      "metadata": {
        "id": "oKVrvhkzIf0n",
        "colab_type": "code",
        "colab": {}
      },
      "source": [
        "# Convert it into numpy array, we'll call this the examples vector\n",
        "# as it contains all the example to be trained on\n",
        "\n",
        "ex_vector = np.array(padded)\n",
        "ex_vector"
      ],
      "execution_count": 0,
      "outputs": []
    },
    {
      "cell_type": "code",
      "metadata": {
        "id": "Rhx30H5QIlkN",
        "colab_type": "code",
        "colab": {}
      },
      "source": [
        "# Split the data into test & train dataset\n",
        "\n",
        "xtrain, xtest, ytrain, ytest = train_test_split(ex_vector,target, test_size=0.2)"
      ],
      "execution_count": 0,
      "outputs": []
    },
    {
      "cell_type": "markdown",
      "metadata": {
        "id": "seeGnvBN6Pgf",
        "colab_type": "text"
      },
      "source": [
        "We need to load and convert the numpy array into a **Tensor** and then transform that into a **BatchDataset TF Object** to load into the Embedding Layer in our Keras Model\n",
        "\n",
        "The model will not accept if we dont do the next two cells.\n",
        "\n",
        "---\n",
        "\n"
      ]
    },
    {
      "cell_type": "code",
      "metadata": {
        "id": "6aqmN0eAIxVW",
        "colab_type": "code",
        "colab": {}
      },
      "source": [
        "# Create a tensor out of numpy arrays\n",
        "\n",
        "train_dataset = tf.data.Dataset.from_tensor_slices((xtrain, ytrain))\n",
        "test_dataset = tf.data.Dataset.from_tensor_slices((xtest, ytest))"
      ],
      "execution_count": 0,
      "outputs": []
    },
    {
      "cell_type": "code",
      "metadata": {
        "id": "mT6Au5fvI11q",
        "colab_type": "code",
        "colab": {}
      },
      "source": [
        "# shuffle the data and create batches out of it\n",
        "\n",
        "BATCH_SIZE = 200\n",
        "SHUFFLE_BUFFER_SIZE = 300\n",
        "\n",
        "train_dataset = train_dataset.shuffle(SHUFFLE_BUFFER_SIZE).batch(BATCH_SIZE)\n",
        "test_dataset = test_dataset.batch(BATCH_SIZE)"
      ],
      "execution_count": 0,
      "outputs": []
    },
    {
      "cell_type": "code",
      "metadata": {
        "id": "MVD9n5kzI-T6",
        "colab_type": "code",
        "colab": {}
      },
      "source": [
        "type(train_dataset)"
      ],
      "execution_count": 0,
      "outputs": []
    },
    {
      "cell_type": "markdown",
      "metadata": {
        "id": "03zNOb0V6jnZ",
        "colab_type": "text"
      },
      "source": [
        "## **Creating our model**"
      ]
    },
    {
      "cell_type": "code",
      "metadata": {
        "id": "9aM36iAiJBL8",
        "colab_type": "code",
        "colab": {}
      },
      "source": [
        "\n",
        "# Define the embedding dimensions // features around which the model will learn correlation based on.\n",
        "\n",
        "embedding_dim=25\n",
        "\n",
        "# defining the sequential model with an Embedding layer\n",
        "# Add a Global Average Pooling 1D layer to flatten the matrix into vector\n",
        "\n",
        "model = keras.models.Sequential([\n",
        "  keras.layers.Embedding(len(vocabulary), embedding_dim),\n",
        "  keras.layers.GlobalAveragePooling1D(),\n",
        "  keras.layers.Dense(15, activation='relu'),\n",
        "  keras.layers.Dense(1, activation='sigmoid')\n",
        "])"
      ],
      "execution_count": 0,
      "outputs": []
    },
    {
      "cell_type": "code",
      "metadata": {
        "id": "lMkckZoRJUjR",
        "colab_type": "code",
        "colab": {}
      },
      "source": [
        "model.compile(optimizer=keras.optimizers.Adam(0.001),\n",
        "              loss=tf.keras.losses.BinaryCrossentropy(),\n",
        "              metrics=['accuracy'])"
      ],
      "execution_count": 0,
      "outputs": []
    },
    {
      "cell_type": "code",
      "metadata": {
        "id": "WhnzeDt3Jn_8",
        "colab_type": "code",
        "colab": {}
      },
      "source": [
        "model.summary()"
      ],
      "execution_count": 0,
      "outputs": []
    },
    {
      "cell_type": "code",
      "metadata": {
        "id": "wyhrY5m9Jq65",
        "colab_type": "code",
        "colab": {}
      },
      "source": [
        "# Train the model and benchmark against Test Data as it's validation data\n",
        "\n",
        "epochs=10\n",
        "history = model.fit(train_dataset, epochs=epochs, validation_data=test_dataset, verbose=2)"
      ],
      "execution_count": 0,
      "outputs": []
    },
    {
      "cell_type": "code",
      "metadata": {
        "id": "4xvcOfUGJ0st",
        "colab_type": "code",
        "colab": {}
      },
      "source": [
        "epoch = model.history.epoch\n",
        "history = model.history.history"
      ],
      "execution_count": 0,
      "outputs": []
    },
    {
      "cell_type": "code",
      "metadata": {
        "id": "kHlbK3rTKFoR",
        "colab_type": "code",
        "colab": {}
      },
      "source": [
        "# Plot Accuracy\n",
        "\n",
        "\n",
        "plt.figure(figsize=(15,5))\n",
        "\n",
        "plt.subplot(121)\n",
        "plt.plot(epoch, history['loss'], 'b', epoch, history['val_loss'], 'g')\n",
        "plt.xlabel('Epochs')\n",
        "plt.ylabel('Loss')\n",
        "\n",
        "plt.subplot(122)\n",
        "plt.plot(epoch, history['accuracy'], 'b', epoch, history['val_accuracy'], 'g')\n",
        "plt.xlabel('Epochs')\n",
        "plt.ylabel('Accuracy')\n",
        "\n",
        "plt.show()"
      ],
      "execution_count": 0,
      "outputs": []
    },
    {
      "cell_type": "markdown",
      "metadata": {
        "id": "vGcktmVuqIBA",
        "colab_type": "text"
      },
      "source": [
        "**Result:-**\n",
        "\n",
        "Train accuracy: 83.85%\n",
        "\n",
        "Validation accuracy: 84.23%"
      ]
    },
    {
      "cell_type": "markdown",
      "metadata": {
        "id": "R6dza2lN1z86",
        "colab_type": "text"
      },
      "source": [
        "In the next notebook, we will perform simpler vectorization techniques like CountVectorizer and TfidfVectorizer"
      ]
    },
    {
      "cell_type": "code",
      "metadata": {
        "id": "cQ6dtJeOALj1",
        "colab_type": "code",
        "colab": {}
      },
      "source": [
        ""
      ],
      "execution_count": 0,
      "outputs": []
    }
  ]
}